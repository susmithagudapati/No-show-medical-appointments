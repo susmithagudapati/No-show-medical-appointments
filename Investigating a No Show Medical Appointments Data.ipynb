{
 "cells": [
  {
   "cell_type": "markdown",
   "metadata": {},
   "source": [
    "# Project: Investigate a No Show Medical Appointments Dataset\n",
    "\n",
    "## Table of Contents\n",
    "<ul>\n",
    "<li><a href=\"#introduction\">Introduction</a></li>\n",
    "<li><a href=\"#wrangling\">Data Wrangling</a></li>\n",
    "<li><a href=\"#eda\">Exploratory Data Analysis</a></li>\n",
    "<li><a href=\"#summary\">Summary</a></li>\n",
    "</ul>"
   ]
  },
  {
   "cell_type": "markdown",
   "metadata": {},
   "source": [
    "<a id=\"introduction\"></a>\n",
    "## Introduction"
   ]
  },
  {
   "cell_type": "markdown",
   "metadata": {},
   "source": [
    ">The dataset under investigation is a collection of information from 100k medical appointments scheduled in Brazil. The main objective of this data analysis is to find whether patients who scheduled appointment actually showed up or not.\n",
    "\n",
    ">With the given characteristics like gender, age, scholarship and health profile of every patient such as hipertension, alcoholism, diabetes, handcap, I'm interested in investigating the below questions - \n",
    "### Questions:\n",
    "<ul>\n",
    "    <li>Which gender type has the highest number of no-shows?</li>\n",
    "    <li>What is the patient age distribution of no-shows versus shows?</li>\n",
    "    <li>What are the trends associated with a patient health profile and shows versus no-shows?</li>\n",
    "    <li>Which neighborhoods have the highest number of no-shows?</li>\n",
    "    <li>Do no-shows have a larger time gap between scheduled date and appointment date?</li>\n",
    "    <li>Are people receiving SMS are more likely to show up?</li>\n",
    "</ul>"
   ]
  },
  {
   "cell_type": "markdown",
   "metadata": {},
   "source": [
    "<a id=\"wrangling\"></a>\n",
    "## Data Wrangling"
   ]
  },
  {
   "cell_type": "markdown",
   "metadata": {},
   "source": [
    ">Data wrangling cleans and unifies the messy and complex data sets for easier access and analysis\n",
    "\n",
    "#### Steps to data wrangling (as per out dataset)\n",
    "<ul>\n",
    "    <li>Data Acquisition: Identifying and obtaining access to the data source</li>\n",
    "    <li>Data Cleansing: Redesigning the data into a usable/functional format and correct/remove any bad data</li>\n",
    "</ul>"
   ]
  },
  {
   "cell_type": "code",
   "execution_count": 914,
   "metadata": {},
   "outputs": [],
   "source": [
    "import pandas as pd\n",
    "import matplotlib.pyplot as plt\n",
    "import seaborn as sns\n",
    "% matplotlib inline"
   ]
  },
  {
   "cell_type": "markdown",
   "metadata": {},
   "source": [
    "### Data Aquisition:"
   ]
  },
  {
   "cell_type": "code",
   "execution_count": 915,
   "metadata": {
    "scrolled": true
   },
   "outputs": [
    {
     "data": {
      "text/html": [
       "<div>\n",
       "<style scoped>\n",
       "    .dataframe tbody tr th:only-of-type {\n",
       "        vertical-align: middle;\n",
       "    }\n",
       "\n",
       "    .dataframe tbody tr th {\n",
       "        vertical-align: top;\n",
       "    }\n",
       "\n",
       "    .dataframe thead th {\n",
       "        text-align: right;\n",
       "    }\n",
       "</style>\n",
       "<table border=\"1\" class=\"dataframe\">\n",
       "  <thead>\n",
       "    <tr style=\"text-align: right;\">\n",
       "      <th></th>\n",
       "      <th>PatientId</th>\n",
       "      <th>AppointmentID</th>\n",
       "      <th>Gender</th>\n",
       "      <th>ScheduledDay</th>\n",
       "      <th>AppointmentDay</th>\n",
       "      <th>Age</th>\n",
       "      <th>Neighbourhood</th>\n",
       "      <th>Scholarship</th>\n",
       "      <th>Hipertension</th>\n",
       "      <th>Diabetes</th>\n",
       "      <th>Alcoholism</th>\n",
       "      <th>Handcap</th>\n",
       "      <th>SMS_received</th>\n",
       "      <th>No-show</th>\n",
       "    </tr>\n",
       "  </thead>\n",
       "  <tbody>\n",
       "    <tr>\n",
       "      <th>0</th>\n",
       "      <td>2.987250e+13</td>\n",
       "      <td>5642903</td>\n",
       "      <td>F</td>\n",
       "      <td>2016-04-29T18:38:08Z</td>\n",
       "      <td>2016-04-29T00:00:00Z</td>\n",
       "      <td>62</td>\n",
       "      <td>JARDIM DA PENHA</td>\n",
       "      <td>0</td>\n",
       "      <td>1</td>\n",
       "      <td>0</td>\n",
       "      <td>0</td>\n",
       "      <td>0</td>\n",
       "      <td>0</td>\n",
       "      <td>No</td>\n",
       "    </tr>\n",
       "    <tr>\n",
       "      <th>1</th>\n",
       "      <td>5.589978e+14</td>\n",
       "      <td>5642503</td>\n",
       "      <td>M</td>\n",
       "      <td>2016-04-29T16:08:27Z</td>\n",
       "      <td>2016-04-29T00:00:00Z</td>\n",
       "      <td>56</td>\n",
       "      <td>JARDIM DA PENHA</td>\n",
       "      <td>0</td>\n",
       "      <td>0</td>\n",
       "      <td>0</td>\n",
       "      <td>0</td>\n",
       "      <td>0</td>\n",
       "      <td>0</td>\n",
       "      <td>No</td>\n",
       "    </tr>\n",
       "    <tr>\n",
       "      <th>2</th>\n",
       "      <td>4.262962e+12</td>\n",
       "      <td>5642549</td>\n",
       "      <td>F</td>\n",
       "      <td>2016-04-29T16:19:04Z</td>\n",
       "      <td>2016-04-29T00:00:00Z</td>\n",
       "      <td>62</td>\n",
       "      <td>MATA DA PRAIA</td>\n",
       "      <td>0</td>\n",
       "      <td>0</td>\n",
       "      <td>0</td>\n",
       "      <td>0</td>\n",
       "      <td>0</td>\n",
       "      <td>0</td>\n",
       "      <td>No</td>\n",
       "    </tr>\n",
       "    <tr>\n",
       "      <th>3</th>\n",
       "      <td>8.679512e+11</td>\n",
       "      <td>5642828</td>\n",
       "      <td>F</td>\n",
       "      <td>2016-04-29T17:29:31Z</td>\n",
       "      <td>2016-04-29T00:00:00Z</td>\n",
       "      <td>8</td>\n",
       "      <td>PONTAL DE CAMBURI</td>\n",
       "      <td>0</td>\n",
       "      <td>0</td>\n",
       "      <td>0</td>\n",
       "      <td>0</td>\n",
       "      <td>0</td>\n",
       "      <td>0</td>\n",
       "      <td>No</td>\n",
       "    </tr>\n",
       "    <tr>\n",
       "      <th>4</th>\n",
       "      <td>8.841186e+12</td>\n",
       "      <td>5642494</td>\n",
       "      <td>F</td>\n",
       "      <td>2016-04-29T16:07:23Z</td>\n",
       "      <td>2016-04-29T00:00:00Z</td>\n",
       "      <td>56</td>\n",
       "      <td>JARDIM DA PENHA</td>\n",
       "      <td>0</td>\n",
       "      <td>1</td>\n",
       "      <td>1</td>\n",
       "      <td>0</td>\n",
       "      <td>0</td>\n",
       "      <td>0</td>\n",
       "      <td>No</td>\n",
       "    </tr>\n",
       "  </tbody>\n",
       "</table>\n",
       "</div>"
      ],
      "text/plain": [
       "      PatientId  AppointmentID Gender          ScheduledDay  \\\n",
       "0  2.987250e+13        5642903      F  2016-04-29T18:38:08Z   \n",
       "1  5.589978e+14        5642503      M  2016-04-29T16:08:27Z   \n",
       "2  4.262962e+12        5642549      F  2016-04-29T16:19:04Z   \n",
       "3  8.679512e+11        5642828      F  2016-04-29T17:29:31Z   \n",
       "4  8.841186e+12        5642494      F  2016-04-29T16:07:23Z   \n",
       "\n",
       "         AppointmentDay  Age      Neighbourhood  Scholarship  Hipertension  \\\n",
       "0  2016-04-29T00:00:00Z   62    JARDIM DA PENHA            0             1   \n",
       "1  2016-04-29T00:00:00Z   56    JARDIM DA PENHA            0             0   \n",
       "2  2016-04-29T00:00:00Z   62      MATA DA PRAIA            0             0   \n",
       "3  2016-04-29T00:00:00Z    8  PONTAL DE CAMBURI            0             0   \n",
       "4  2016-04-29T00:00:00Z   56    JARDIM DA PENHA            0             1   \n",
       "\n",
       "   Diabetes  Alcoholism  Handcap  SMS_received No-show  \n",
       "0         0           0        0             0      No  \n",
       "1         0           0        0             0      No  \n",
       "2         0           0        0             0      No  \n",
       "3         0           0        0             0      No  \n",
       "4         1           0        0             0      No  "
      ]
     },
     "execution_count": 915,
     "metadata": {},
     "output_type": "execute_result"
    }
   ],
   "source": [
    "# load data\n",
    "df = pd.read_csv('noshowappointments-kagglev2-may-2016.csv')\n",
    "df.head()"
   ]
  },
  {
   "cell_type": "markdown",
   "metadata": {},
   "source": [
    "### Data Cleaning:"
   ]
  },
  {
   "cell_type": "code",
   "execution_count": 916,
   "metadata": {},
   "outputs": [
    {
     "data": {
      "text/plain": [
       "(110527, 14)"
      ]
     },
     "execution_count": 916,
     "metadata": {},
     "output_type": "execute_result"
    }
   ],
   "source": [
    "df.shape"
   ]
  },
  {
   "cell_type": "code",
   "execution_count": 917,
   "metadata": {},
   "outputs": [
    {
     "name": "stdout",
     "output_type": "stream",
     "text": [
      "0\n"
     ]
    }
   ],
   "source": [
    "# check for duplicates and drop them if any\n",
    "print(sum(df.duplicated()))"
   ]
  },
  {
   "cell_type": "code",
   "execution_count": 918,
   "metadata": {},
   "outputs": [],
   "source": [
    "# rename column names\n",
    "df.rename(columns={'PatientId': 'patient_id', 'AppointmentID': 'appointment_id', 'Gender': 'gender', \n",
    "                   'ScheduledDay': 'scheduled_day','AppointmentDay': 'appointment_day','Age': 'age', \n",
    "                   'Neighbourhood': 'neighbourhood', 'Scholarship': 'scholarship', 'Hipertension': 'hypertension',\n",
    "                   'Handcap': 'handicap', 'Diabetes': 'diabetes', 'Alcoholism': 'alcoholism', \n",
    "                   'SMS_received': 'sms_received', 'No-show': 'no_show'\n",
    "                  }, inplace=True)"
   ]
  },
  {
   "cell_type": "code",
   "execution_count": 919,
   "metadata": {},
   "outputs": [],
   "source": [
    "# converting the data types and formats\n",
    "df['patient_id'] = df['patient_id'].astype(int)"
   ]
  },
  {
   "cell_type": "code",
   "execution_count": 920,
   "metadata": {},
   "outputs": [
    {
     "name": "stdout",
     "output_type": "stream",
     "text": [
      "<class 'pandas.core.frame.DataFrame'>\n",
      "RangeIndex: 110527 entries, 0 to 110526\n",
      "Data columns (total 14 columns):\n",
      "patient_id         110527 non-null int64\n",
      "appointment_id     110527 non-null int64\n",
      "gender             110527 non-null object\n",
      "scheduled_day      110527 non-null datetime64[ns]\n",
      "appointment_day    110527 non-null datetime64[ns]\n",
      "age                110527 non-null int64\n",
      "neighbourhood      110527 non-null object\n",
      "scholarship        110527 non-null int64\n",
      "hypertension       110527 non-null int64\n",
      "diabetes           110527 non-null int64\n",
      "alcoholism         110527 non-null int64\n",
      "handicap           110527 non-null int64\n",
      "sms_received       110527 non-null int64\n",
      "no_show            110527 non-null object\n",
      "dtypes: datetime64[ns](2), int64(9), object(3)\n",
      "memory usage: 11.8+ MB\n"
     ]
    }
   ],
   "source": [
    "df['scheduled_day'] = pd.to_datetime(df['scheduled_day'])\n",
    "df['appointment_day'] = pd.to_datetime(df['appointment_day'])\n",
    "df.info()"
   ]
  },
  {
   "cell_type": "code",
   "execution_count": 921,
   "metadata": {},
   "outputs": [
    {
     "name": "stdout",
     "output_type": "stream",
     "text": [
      "<class 'pandas.core.frame.DataFrame'>\n",
      "RangeIndex: 110527 entries, 0 to 110526\n",
      "Data columns (total 14 columns):\n",
      "patient_id         110527 non-null int64\n",
      "appointment_id     110527 non-null int64\n",
      "gender             110527 non-null object\n",
      "scheduled_day      110527 non-null object\n",
      "appointment_day    110527 non-null object\n",
      "age                110527 non-null int64\n",
      "neighbourhood      110527 non-null object\n",
      "scholarship        110527 non-null int64\n",
      "hypertension       110527 non-null int64\n",
      "diabetes           110527 non-null int64\n",
      "alcoholism         110527 non-null int64\n",
      "handicap           110527 non-null int64\n",
      "sms_received       110527 non-null int64\n",
      "no_show            110527 non-null object\n",
      "dtypes: int64(9), object(5)\n",
      "memory usage: 11.8+ MB\n"
     ]
    }
   ],
   "source": [
    "# Adding format to the appointment and scheduled days\n",
    "df['scheduled_day'] = df['scheduled_day'].apply(lambda x: x.strftime(\"%Y-%m-%d\"))\n",
    "df['appointment_day'] = df['appointment_day'].apply(lambda x: x.strftime(\"%Y-%m-%d\"))\n",
    "df.info()"
   ]
  },
  {
   "cell_type": "code",
   "execution_count": 922,
   "metadata": {},
   "outputs": [
    {
     "name": "stdout",
     "output_type": "stream",
     "text": [
      "<class 'pandas.core.frame.DataFrame'>\n",
      "RangeIndex: 110527 entries, 0 to 110526\n",
      "Data columns (total 14 columns):\n",
      "patient_id         110527 non-null int64\n",
      "appointment_id     110527 non-null int64\n",
      "gender             110527 non-null object\n",
      "scheduled_day      110527 non-null datetime64[ns]\n",
      "appointment_day    110527 non-null datetime64[ns]\n",
      "age                110527 non-null int64\n",
      "neighbourhood      110527 non-null object\n",
      "scholarship        110527 non-null int64\n",
      "hypertension       110527 non-null int64\n",
      "diabetes           110527 non-null int64\n",
      "alcoholism         110527 non-null int64\n",
      "handicap           110527 non-null int64\n",
      "sms_received       110527 non-null int64\n",
      "no_show            110527 non-null object\n",
      "dtypes: datetime64[ns](2), int64(9), object(3)\n",
      "memory usage: 11.8+ MB\n"
     ]
    }
   ],
   "source": [
    "# convert them back to datetime object\n",
    "df['scheduled_day'] = pd.to_datetime(df['scheduled_day'])\n",
    "df['appointment_day'] = pd.to_datetime(df['appointment_day'])\n",
    "df.info()"
   ]
  },
  {
   "cell_type": "code",
   "execution_count": 923,
   "metadata": {},
   "outputs": [
    {
     "name": "stdout",
     "output_type": "stream",
     "text": [
      "Age: [-1, 0, 1, 2, 3, 4, 5, 6, 7, 8, 9, 10, 11, 12, 13, 14, 15, 16, 17, 18, 19, 20, 21, 22, 23, 24, 25, 26, 27, 28, 29, 30, 31, 32, 33, 34, 35, 36, 37, 38, 39, 40, 41, 42, 43, 44, 45, 46, 47, 48, 49, 50, 51, 52, 53, 54, 55, 56, 57, 58, 59, 60, 61, 62, 63, 64, 65, 66, 67, 68, 69, 70, 71, 72, 73, 74, 75, 76, 77, 78, 79, 80, 81, 82, 83, 84, 85, 86, 87, 88, 89, 90, 91, 92, 93, 94, 95, 96, 97, 98, 99, 100, 102, 115]\n",
      "Gender: ['F' 'M']\n",
      "Diabetes: [0 1]\n",
      "Alcoholism: [0 1]\n",
      "Hypertension: [1 0]\n",
      "Handicap: [0 1 2 3 4]\n",
      "Scholarship: [0 1]\n",
      "SMS_received: [0 1]\n",
      "No_show: ['No' 'Yes']\n"
     ]
    }
   ],
   "source": [
    "# checking for erroneous data\n",
    "print('Age:',sorted(df.age.unique()))\n",
    "print('Gender:',df.gender.unique())\n",
    "print('Diabetes:',df.diabetes.unique())\n",
    "print('Alcoholism:',df.alcoholism.unique())\n",
    "print('Hypertension:',df.hypertension.unique())#Hypertension\n",
    "print('Handicap:',df.handicap.unique())#Handicap\n",
    "print('Scholarship:',df.scholarship.unique())\n",
    "print('SMS_received:',df.sms_received.unique())\n",
    "print('No_show:',df.no_show.unique())"
   ]
  },
  {
   "cell_type": "code",
   "execution_count": 924,
   "metadata": {},
   "outputs": [
    {
     "data": {
      "text/plain": [
       "(110519, 14)"
      ]
     },
     "execution_count": 924,
     "metadata": {},
     "output_type": "execute_result"
    }
   ],
   "source": [
    "# removing the outliers\n",
    "df = df[(df['age'] >= 0) & (df['age'] <= 100)]\n",
    "df.shape"
   ]
  },
  {
   "cell_type": "markdown",
   "metadata": {},
   "source": [
    "<a id=\"eda\"></a>\n",
    "## Exploratory Data Analysis:"
   ]
  },
  {
   "cell_type": "markdown",
   "metadata": {},
   "source": [
    ">Now that the data is trimmed and cleaned, let's move on to exploration. Compute statistics and create visualizations with the goal of addressing the research questions that are posed in the Introduction section is the goal of this section. Each question is taken considering to solve for one variable at a time."
   ]
  },
  {
   "cell_type": "markdown",
   "metadata": {},
   "source": [
    "\n",
    "### Question 1: Which gender type has the highest number of no-shows?"
   ]
  },
  {
   "cell_type": "code",
   "execution_count": 925,
   "metadata": {},
   "outputs": [
    {
     "data": {
      "text/plain": [
       "gender  no_show\n",
       "F       No         57241\n",
       "        Yes        14591\n",
       "M       No         30962\n",
       "        Yes         7725\n",
       "Name: no_show, dtype: int64"
      ]
     },
     "execution_count": 925,
     "metadata": {},
     "output_type": "execute_result"
    }
   ],
   "source": [
    "# group by gender and count the shows and no shows\n",
    "gender_data = df.groupby('gender').no_show.value_counts()\n",
    "gender_data"
   ]
  },
  {
   "cell_type": "code",
   "execution_count": 926,
   "metadata": {},
   "outputs": [
    {
     "name": "stdout",
     "output_type": "stream",
     "text": [
      "13.2% of females did not show up to the appointment\n",
      "6.99% of males didn't show up to the appointment.\n"
     ]
    }
   ],
   "source": [
    "# print gender anaylsis data\n",
    "def print_no_shows_data():\n",
    "    total = len(df.index)\n",
    "    female_percent = (gender_data['F']['Yes']/total) * 100\n",
    "    male_percent = (gender_data['M']['Yes']/total) * 100\n",
    "    print(\"{}% of females did not show up to the appointment\".format(female_percent.round(2)))\n",
    "    print(\"{}% of males didn't show up to the appointment.\".format(male_percent.round(2)))\n",
    "print_no_shows_data()"
   ]
  },
  {
   "cell_type": "code",
   "execution_count": 927,
   "metadata": {},
   "outputs": [
    {
     "name": "stdout",
     "output_type": "stream",
     "text": [
      "51.79% of females showed up for their appointment.\n",
      "28.02% of males showed up for their appointment\n"
     ]
    }
   ],
   "source": [
    "# print gender anaylsis data\n",
    "def print_show_data():\n",
    "    total = len(df.index)\n",
    "    female_percent = (gender_data['F']['No']/total) * 100\n",
    "    male_percent = (gender_data['M']['No']/total) * 100\n",
    "    print(\"{}% of females showed up for their appointment.\".format(female_percent.round(2)))\n",
    "    print(\"{}% of males showed up for their appointment\".format(male_percent.round(2)))\n",
    "print_show_data()"
   ]
  },
  {
   "cell_type": "code",
   "execution_count": 981,
   "metadata": {},
   "outputs": [
    {
     "data": {
      "text/plain": [
       "Text(0,0.5,'Number of appointments')"
      ]
     },
     "execution_count": 981,
     "metadata": {},
     "output_type": "execute_result"
    },
    {
     "data": {
      "image/png": "[encoded data removed]",
      "text/plain": [
       "<Figure size 432x288 with 1 Axes>"
      ]
     },
     "metadata": {},
     "output_type": "display_data"
    }
   ],
   "source": [
    "# plot the graph\n",
    "gender_data.plot(kind='bar', autoplot=)\n",
    "plt.title('Influence of gender on no-shows and shows')\n",
    "plt.xlabel('(Gender, No-show to appointment)')\n",
    "plt.ylabel('Number of appointments')"
   ]
  },
  {
   "cell_type": "markdown",
   "metadata": {},
   "source": [
    "#### Conclusion: \n",
    "From the visualization it is pretty much clear that this distribution is skewed towards women. Though women are likely to show up to their appointment, the no-shows percent of both male and women doesn’t vary too much. Apparently, gender has no influence on proportion of no-shows"
   ]
  },
  {
   "cell_type": "markdown",
   "metadata": {},
   "source": [
    "### Question 2: What is the patient age distribution of no-shows versus shows?"
   ]
  },
  {
   "cell_type": "code",
   "execution_count": 929,
   "metadata": {},
   "outputs": [
    {
     "data": {
      "text/html": [
       "<div>\n",
       "<style scoped>\n",
       "    .dataframe tbody tr th:only-of-type {\n",
       "        vertical-align: middle;\n",
       "    }\n",
       "\n",
       "    .dataframe tbody tr th {\n",
       "        vertical-align: top;\n",
       "    }\n",
       "\n",
       "    .dataframe thead th {\n",
       "        text-align: right;\n",
       "    }\n",
       "</style>\n",
       "<table border=\"1\" class=\"dataframe\">\n",
       "  <thead>\n",
       "    <tr style=\"text-align: right;\">\n",
       "      <th></th>\n",
       "      <th>patient_id</th>\n",
       "      <th>appointment_id</th>\n",
       "      <th>gender</th>\n",
       "      <th>scheduled_day</th>\n",
       "      <th>appointment_day</th>\n",
       "      <th>age</th>\n",
       "      <th>neighbourhood</th>\n",
       "      <th>scholarship</th>\n",
       "      <th>hypertension</th>\n",
       "      <th>diabetes</th>\n",
       "      <th>alcoholism</th>\n",
       "      <th>handicap</th>\n",
       "      <th>sms_received</th>\n",
       "      <th>no_show</th>\n",
       "      <th>age_bins</th>\n",
       "    </tr>\n",
       "  </thead>\n",
       "  <tbody>\n",
       "    <tr>\n",
       "      <th>0</th>\n",
       "      <td>29872499824296</td>\n",
       "      <td>5642903</td>\n",
       "      <td>F</td>\n",
       "      <td>2016-04-29</td>\n",
       "      <td>2016-04-29</td>\n",
       "      <td>62</td>\n",
       "      <td>JARDIM DA PENHA</td>\n",
       "      <td>0</td>\n",
       "      <td>1</td>\n",
       "      <td>0</td>\n",
       "      <td>0</td>\n",
       "      <td>0</td>\n",
       "      <td>0</td>\n",
       "      <td>No</td>\n",
       "      <td>(60, 70]</td>\n",
       "    </tr>\n",
       "    <tr>\n",
       "      <th>1</th>\n",
       "      <td>558997776694438</td>\n",
       "      <td>5642503</td>\n",
       "      <td>M</td>\n",
       "      <td>2016-04-29</td>\n",
       "      <td>2016-04-29</td>\n",
       "      <td>56</td>\n",
       "      <td>JARDIM DA PENHA</td>\n",
       "      <td>0</td>\n",
       "      <td>0</td>\n",
       "      <td>0</td>\n",
       "      <td>0</td>\n",
       "      <td>0</td>\n",
       "      <td>0</td>\n",
       "      <td>No</td>\n",
       "      <td>(50, 60]</td>\n",
       "    </tr>\n",
       "    <tr>\n",
       "      <th>2</th>\n",
       "      <td>4262962299951</td>\n",
       "      <td>5642549</td>\n",
       "      <td>F</td>\n",
       "      <td>2016-04-29</td>\n",
       "      <td>2016-04-29</td>\n",
       "      <td>62</td>\n",
       "      <td>MATA DA PRAIA</td>\n",
       "      <td>0</td>\n",
       "      <td>0</td>\n",
       "      <td>0</td>\n",
       "      <td>0</td>\n",
       "      <td>0</td>\n",
       "      <td>0</td>\n",
       "      <td>No</td>\n",
       "      <td>(60, 70]</td>\n",
       "    </tr>\n",
       "    <tr>\n",
       "      <th>3</th>\n",
       "      <td>867951213174</td>\n",
       "      <td>5642828</td>\n",
       "      <td>F</td>\n",
       "      <td>2016-04-29</td>\n",
       "      <td>2016-04-29</td>\n",
       "      <td>8</td>\n",
       "      <td>PONTAL DE CAMBURI</td>\n",
       "      <td>0</td>\n",
       "      <td>0</td>\n",
       "      <td>0</td>\n",
       "      <td>0</td>\n",
       "      <td>0</td>\n",
       "      <td>0</td>\n",
       "      <td>No</td>\n",
       "      <td>(0, 10]</td>\n",
       "    </tr>\n",
       "    <tr>\n",
       "      <th>4</th>\n",
       "      <td>8841186448183</td>\n",
       "      <td>5642494</td>\n",
       "      <td>F</td>\n",
       "      <td>2016-04-29</td>\n",
       "      <td>2016-04-29</td>\n",
       "      <td>56</td>\n",
       "      <td>JARDIM DA PENHA</td>\n",
       "      <td>0</td>\n",
       "      <td>1</td>\n",
       "      <td>1</td>\n",
       "      <td>0</td>\n",
       "      <td>0</td>\n",
       "      <td>0</td>\n",
       "      <td>No</td>\n",
       "      <td>(50, 60]</td>\n",
       "    </tr>\n",
       "  </tbody>\n",
       "</table>\n",
       "</div>"
      ],
      "text/plain": [
       "        patient_id  appointment_id gender scheduled_day appointment_day  age  \\\n",
       "0   29872499824296         5642903      F    2016-04-29      2016-04-29   62   \n",
       "1  558997776694438         5642503      M    2016-04-29      2016-04-29   56   \n",
       "2    4262962299951         5642549      F    2016-04-29      2016-04-29   62   \n",
       "3     867951213174         5642828      F    2016-04-29      2016-04-29    8   \n",
       "4    8841186448183         5642494      F    2016-04-29      2016-04-29   56   \n",
       "\n",
       "       neighbourhood  scholarship  hypertension  diabetes  alcoholism  \\\n",
       "0    JARDIM DA PENHA            0             1         0           0   \n",
       "1    JARDIM DA PENHA            0             0         0           0   \n",
       "2      MATA DA PRAIA            0             0         0           0   \n",
       "3  PONTAL DE CAMBURI            0             0         0           0   \n",
       "4    JARDIM DA PENHA            0             1         1           0   \n",
       "\n",
       "   handicap  sms_received no_show  age_bins  \n",
       "0         0             0      No  (60, 70]  \n",
       "1         0             0      No  (50, 60]  \n",
       "2         0             0      No  (60, 70]  \n",
       "3         0             0      No   (0, 10]  \n",
       "4         0             0      No  (50, 60]  "
      ]
     },
     "execution_count": 929,
     "metadata": {},
     "output_type": "execute_result"
    }
   ],
   "source": [
    "# creating age bins\n",
    "age_bins = [0, 10, 20, 30, 40, 50, 60, 70, 80, 90, 100]\n",
    "df['age_bins'] = pd.cut(df.age, age_bins)\n",
    "df.head()"
   ]
  },
  {
   "cell_type": "code",
   "execution_count": 930,
   "metadata": {},
   "outputs": [
    {
     "data": {
      "text/plain": [
       "age_bins   no_show\n",
       "(0, 10]    Yes        3149\n",
       "(10, 20]   Yes        3308\n",
       "(20, 30]   Yes        3394\n",
       "(30, 40]   Yes        3232\n",
       "(40, 50]   Yes        2870\n",
       "(50, 60]   Yes        2721\n",
       "(60, 70]   Yes        1648\n",
       "(70, 80]   Yes         889\n",
       "(80, 90]   Yes         407\n",
       "(90, 100]  Yes          59\n",
       "Name: no_show, dtype: int64"
      ]
     },
     "execution_count": 930,
     "metadata": {},
     "output_type": "execute_result"
    }
   ],
   "source": [
    "# filter by no-shown appointments\n",
    "no_shown_age_data = df.query('no_show == \"Yes\"').groupby('age_bins').no_show.value_counts()\n",
    "no_shown_age_data"
   ]
  },
  {
   "cell_type": "code",
   "execution_count": 931,
   "metadata": {},
   "outputs": [
    {
     "data": {
      "text/plain": [
       "{'(0,10]': 3149,\n",
       " '(10,20]': 3308,\n",
       " '(20,30]': 3394,\n",
       " '(30,40]': 3232,\n",
       " '(40,50]': 2870,\n",
       " '(50,60]': 2721,\n",
       " '(60,70]': 1648,\n",
       " '(70,80]': 889,\n",
       " '(80,90]': 407,\n",
       " '(90,100]': 59}"
      ]
     },
     "execution_count": 931,
     "metadata": {},
     "output_type": "execute_result"
    }
   ],
   "source": [
    "age_no_shown_proportion = {}\n",
    "for index in range(0,len(age_bins)-1):\n",
    "    key = \"({},{}]\".format(age_bins[index], age_bins[index+1])\n",
    "    value = no_shown_age_data.values[index]\n",
    "    age_no_shown_proportion.update({key: value})\n",
    "age_no_shown_proportion"
   ]
  },
  {
   "cell_type": "code",
   "execution_count": 932,
   "metadata": {
    "scrolled": true
   },
   "outputs": [
    {
     "name": "stdout",
     "output_type": "stream",
     "text": [
      "2.85% are in bin-(0,10]\n",
      "2.99% are in bin-(10,20]\n",
      "3.07% are in bin-(20,30]\n",
      "2.92% are in bin-(30,40]\n",
      "2.6% are in bin-(40,50]\n",
      "2.46% are in bin-(50,60]\n",
      "1.49% are in bin-(60,70]\n",
      "0.8% are in bin-(70,80]\n",
      "0.37% are in bin-(80,90]\n",
      "0.05% are in bin-(90,100]\n"
     ]
    }
   ],
   "source": [
    "# calculate percentage by age_bins of no-shown\n",
    "def print_no_shown_age_percentage():\n",
    "    total = len(df.index)\n",
    "    for key, value in age_no_show_proportion.items():\n",
    "        percent = (value/total) * 100\n",
    "        print(\"{}% are in bin-{}\".format(percent.round(2), key))\n",
    "print_no_shown_age_percentage()"
   ]
  },
  {
   "cell_type": "code",
   "execution_count": 933,
   "metadata": {},
   "outputs": [
    {
     "data": {
      "text/plain": [
       "Text(0,0.5,'Number of appointments')"
      ]
     },
     "execution_count": 933,
     "metadata": {},
     "output_type": "execute_result"
    },
    {
     "data": {
      "image/png": "[encoded data removed]",
      "text/plain": [
       "<Figure size 720x288 with 1 Axes>"
      ]
     },
     "metadata": {},
     "output_type": "display_data"
    }
   ],
   "source": [
    "# plot a graph of no-shown as a function of age\n",
    "no_shown_age_data.plot(kind='bar', figsize=(10,4), color=\"#2077B4\")\n",
    "plt.title('No show appointments proportion as a function of age')\n",
    "plt.xlabel('Patient age (with 10 bin size)')\n",
    "plt.ylabel('Number of appointments')"
   ]
  },
  {
   "cell_type": "code",
   "execution_count": 934,
   "metadata": {},
   "outputs": [
    {
     "data": {
      "text/plain": [
       "age_bins   no_show\n",
       "(0, 10]    No         12061\n",
       "(10, 20]   No          9791\n",
       "(20, 30]   No         10389\n",
       "(30, 40]   No         11820\n",
       "(40, 50]   No         11550\n",
       "(50, 60]   No         12940\n",
       "(60, 70]   No          9541\n",
       "(70, 80]   No          4832\n",
       "(80, 90]   No          2137\n",
       "(90, 100]  No           242\n",
       "Name: no_show, dtype: int64"
      ]
     },
     "execution_count": 934,
     "metadata": {},
     "output_type": "execute_result"
    }
   ],
   "source": [
    "# filter by shown appointments\n",
    "shown_age_data = df.query('no_show == \"No\"').groupby('age_bins').no_show.value_counts()\n",
    "shown_age_data"
   ]
  },
  {
   "cell_type": "code",
   "execution_count": 935,
   "metadata": {},
   "outputs": [
    {
     "data": {
      "text/plain": [
       "{'(0,10]': 12061,\n",
       " '(10,20]': 9791,\n",
       " '(20,30]': 10389,\n",
       " '(30,40]': 11820,\n",
       " '(40,50]': 11550,\n",
       " '(50,60]': 12940,\n",
       " '(60,70]': 9541,\n",
       " '(70,80]': 4832,\n",
       " '(80,90]': 2137,\n",
       " '(90,100]': 242}"
      ]
     },
     "execution_count": 935,
     "metadata": {},
     "output_type": "execute_result"
    }
   ],
   "source": [
    "age_shown_proportion = {}\n",
    "for index in range(0,len(age_bins)-1):\n",
    "    key = \"({},{}]\".format(age_bins[index], age_bins[index+1])\n",
    "    value = shown_age_data.values[index]\n",
    "    age_shown_proportion.update({key: value})\n",
    "age_shown_proportion"
   ]
  },
  {
   "cell_type": "code",
   "execution_count": 936,
   "metadata": {},
   "outputs": [
    {
     "name": "stdout",
     "output_type": "stream",
     "text": [
      "10.91% are in bin-(0,10]\n",
      "8.86% are in bin-(10,20]\n",
      "9.4% are in bin-(20,30]\n",
      "10.69% are in bin-(30,40]\n",
      "10.45% are in bin-(40,50]\n",
      "11.71% are in bin-(50,60]\n",
      "8.63% are in bin-(60,70]\n",
      "4.37% are in bin-(70,80]\n",
      "1.93% are in bin-(80,90]\n",
      "0.22% are in bin-(90,100]\n"
     ]
    }
   ],
   "source": [
    "# calculate percentage by age_bins of shown\n",
    "def print_shown_age_percentage():\n",
    "    total = len(df.index)\n",
    "    for key, value in age_shown_proportion.items():\n",
    "        percent = (value/total) * 100\n",
    "        print(\"{}% are in bin-{}\".format(percent.round(2), key))\n",
    "print_shown_age_percentage()"
   ]
  },
  {
   "cell_type": "code",
   "execution_count": 937,
   "metadata": {},
   "outputs": [
    {
     "data": {
      "text/plain": [
       "Text(0,0.5,'Number of appointments')"
      ]
     },
     "execution_count": 937,
     "metadata": {},
     "output_type": "execute_result"
    },
    {
     "data": {
      "image/png": "[encoded data removed]",
      "text/plain": [
       "<Figure size 720x288 with 1 Axes>"
      ]
     },
     "metadata": {},
     "output_type": "display_data"
    }
   ],
   "source": [
    "# plot a graph of shows as a function of age\n",
    "shown_age_data.plot(kind='bar', figsize=(10,4), color=\"#2077B4\")\n",
    "plt.title('Shown appointments proportion as a function of age')\n",
    "plt.xlabel('Patient age (with 10 bin size)')\n",
    "plt.ylabel('Number of appointments')"
   ]
  },
  {
   "cell_type": "markdown",
   "metadata": {},
   "source": [
    "#### Conclusion: \n",
    "The number of no-shows were increasing till the age bin - (20,30] and then they had started decreasing. This doesn’t clearly depicts how the age was influencing the no-shows proportion. Similarly with the shown appointments, there doesn’t seem to be any trends associated."
   ]
  },
  {
   "cell_type": "markdown",
   "metadata": {},
   "source": [
    "### Question 3: What are the trends associated with a patient health profile and shows versus no-shows?"
   ]
  },
  {
   "cell_type": "code",
   "execution_count": 938,
   "metadata": {},
   "outputs": [
    {
     "data": {
      "text/plain": [
       "(hypertension  no_show\n",
       " 0             No         70175\n",
       "               Yes        18544\n",
       " 1             No         18028\n",
       "               Yes         3772\n",
       " Name: no_show, dtype: int64, diabetes  no_show\n",
       " 0         No         81690\n",
       "           Yes        20886\n",
       " 1         No          6513\n",
       "           Yes         1430\n",
       " Name: no_show, dtype: int64, alcoholism  no_show\n",
       " 0           No         85520\n",
       "             Yes        21639\n",
       " 1           No          2683\n",
       "             Yes          677\n",
       " Name: no_show, dtype: int64)"
      ]
     },
     "execution_count": 938,
     "metadata": {},
     "output_type": "execute_result"
    }
   ],
   "source": [
    "# filter by no-shown appointments and health profile\n",
    "hypertension_data = df.groupby('hypertension').no_show.value_counts()\n",
    "diabetes_data = df.groupby('diabetes').no_show.value_counts()\n",
    "alcoholism_data = df.groupby('alcoholism').no_show.value_counts()\n",
    "hypertension_data, diabetes_data, alcoholism_data,"
   ]
  },
  {
   "cell_type": "code",
   "execution_count": 939,
   "metadata": {},
   "outputs": [
    {
     "name": "stdout",
     "output_type": "stream",
     "text": [
      "3772 patients i.e, 16.9% who didn't show up to appointment are associated with hypertension\n",
      "\n",
      "1430 patients i.e, 6.41% who didn't show up to appointment are associated with diabetes\n",
      "\n",
      "677 patients i.e, 3.03% who didn't show up to appointment are associated with alcoholism\n",
      "\n"
     ]
    }
   ],
   "source": [
    "# explore the trends  and calculate the percentages of patients of no-shown appointments\n",
    "ns_yes_df = df.query('no_show == \"Yes\"')\n",
    "ns_percentages = []\n",
    "def print_no_show_health_stats(value, h_type):\n",
    "    percent = ((value/len(ns_yes_df.index)) * 100).round(2)\n",
    "    ns_percentages.append([h_type, percent])\n",
    "    print(\"{} patients i.e, {}% who didn't show up to appointment are associated with {}\\n\".format(\n",
    "        value, percent, h_type))\n",
    "    \n",
    "print_no_show_health_stats(hypertension_data[1]['Yes'], 'hypertension')\n",
    "print_no_show_health_stats(diabetes_data[1]['Yes'], 'diabetes')\n",
    "print_no_show_health_stats(alcoholism_data[1]['Yes'], 'alcoholism')"
   ]
  },
  {
   "cell_type": "code",
   "execution_count": 940,
   "metadata": {},
   "outputs": [
    {
     "data": {
      "image/png": "[encoded data removed]",
      "text/plain": [
       "<Figure size 576x576 with 1 Axes>"
      ]
     },
     "metadata": {},
     "output_type": "display_data"
    }
   ],
   "source": [
    "# plot a chart of health profile stats of no-shows\n",
    "other_patients = 100 - (ns_percentages[0][1] + ns_percentages[1][1] + ns_percentages[2][1])\n",
    "values = [ns_percentages[0][1], ns_percentages[1][1], ns_percentages[2][1], other_patients]\n",
    "labels = ['hypertension', 'diabetes', 'alcoholism', 'other_patients']\n",
    "colors = ['#2BA02C', '#2077B4', '#D62728', '#FF7F0E']\n",
    "plt.pie(values, labels=labels, autopct='%1.1f%%', colors=colors, startangle=90)\n",
    "plt.title('Health profile stats of no-shows') \n",
    "fig = plt.gcf()\n",
    "fig.set_size_inches(8,8);"
   ]
  },
  {
   "cell_type": "code",
   "execution_count": 941,
   "metadata": {},
   "outputs": [
    {
     "name": "stdout",
     "output_type": "stream",
     "text": [
      "18028 patients i.e, 20.44% who showed up to appointment are associated with hypertension\n",
      "\n",
      "6513 patients i.e, 7.38% who showed up to appointment are associated with diabetes\n",
      "\n",
      "2683 patients i.e, 3.04% who showed up to appointment are associated with alcoholism\n",
      "\n"
     ]
    }
   ],
   "source": [
    "# explore the trends  and calculate the percentages of patients of shown appointments\n",
    "ns_no_df = df.query('no_show == \"No\"')\n",
    "s_percentages = []\n",
    "def print_show_health_stats(value, h_type):\n",
    "    percent = ((value/len(ns_no_df.index)) * 100).round(2)\n",
    "    s_percentages.append([h_type, percent])\n",
    "    print(\"{} patients i.e, {}% who showed up to appointment are associated with {}\\n\".format(value, percent, h_type))\n",
    "    \n",
    "print_show_health_stats(hypertension_data[1]['No'], 'hypertension')\n",
    "print_show_health_stats(diabetes_data[1]['No'], 'diabetes')\n",
    "print_show_health_stats(alcoholism_data[1]['No'], 'alcoholism')"
   ]
  },
  {
   "cell_type": "code",
   "execution_count": 942,
   "metadata": {},
   "outputs": [
    {
     "data": {
      "image/png": "[encoded data removed]",
      "text/plain": [
       "<Figure size 576x576 with 1 Axes>"
      ]
     },
     "metadata": {},
     "output_type": "display_data"
    }
   ],
   "source": [
    "# plot a chart of health profile stats of no-shows\n",
    "other_patients = 100 - (s_percentages[0][1] + s_percentages[1][1] + s_percentages[2][1])\n",
    "values = [s_percentages[0][1], s_percentages[1][1], s_percentages[2][1], other_patients]\n",
    "labels = ['hypertension', 'diabetes', 'alcoholism', 'other_patients']\n",
    "colors = ['#2BA02C', '#2077B4', '#D62728', '#FF7F0E']\n",
    "plt.pie(values, labels=labels, autopct='%1.1f%%', colors=colors, startangle=90)\n",
    "plt.title('Health profile stats of shows') \n",
    "fig = plt.gcf()\n",
    "fig.set_size_inches(8,8);"
   ]
  },
  {
   "cell_type": "code",
   "execution_count": 983,
   "metadata": {},
   "outputs": [],
   "source": [
    "# consolidated stats of health profile influence on patients when appointments are considered\n",
    "def print_health_profile_stats(is_associated, data, no_show, h_type):\n",
    "    value = data[is_associated][no_show]\n",
    "    percent = ((value/len(df.index)) * 100).round(2)\n",
    "    \n",
    "    if is_associated and no_show:\n",
    "        print(\"{} patients i.e, {}% didn't show up to appointment and are associated with {}\\n\".format(\n",
    "            value, percent, h_type))\n",
    "        \n",
    "    elif is_associated and not no_show:\n",
    "        print(\"{} patients i.e, {}% did show up to appointment and are associated with {}\".format(\n",
    "            value, percent, h_type))\n",
    "        \n",
    "    elif not is_associated and no_show:\n",
    "        print(\"{} patients i.e, {}% didn't show up to appointment and are not associated with {}\".format(\n",
    "            value, percent, h_type))\n",
    "        \n",
    "    else:\n",
    "        print(\"--------------------------------------------- {} --------------------------------------\".format(h_type))\n",
    "        print(\"{} patients i.e, {}% did show up to appointment are not associated with {}\".format(\n",
    "            value, percent, h_type))"
   ]
  },
  {
   "cell_type": "code",
   "execution_count": 984,
   "metadata": {},
   "outputs": [
    {
     "name": "stdout",
     "output_type": "stream",
     "text": [
      "--------------------------------------------- hypertension --------------------------------------\n",
      "70175 patients i.e, 63.5% did show up to appointment are not associated with hypertension\n",
      "18028 patients i.e, 16.31% did show up to appointment and are associated with hypertension\n",
      "18544 patients i.e, 16.78% didn't show up to appointment and are not associated with hypertension\n",
      "3772 patients i.e, 3.41% didn't show up to appointment and are associated with hypertension\n",
      "\n",
      "--------------------------------------------- diabetes --------------------------------------\n",
      "81690 patients i.e, 73.91% did show up to appointment are not associated with diabetes\n",
      "6513 patients i.e, 5.89% did show up to appointment and are associated with diabetes\n",
      "20886 patients i.e, 18.9% didn't show up to appointment and are not associated with diabetes\n",
      "1430 patients i.e, 1.29% didn't show up to appointment and are associated with diabetes\n",
      "\n",
      "--------------------------------------------- alcoholism --------------------------------------\n",
      "85520 patients i.e, 77.38% did show up to appointment are not associated with alcoholism\n",
      "2683 patients i.e, 2.43% did show up to appointment and are associated with alcoholism\n",
      "21639 patients i.e, 19.58% didn't show up to appointment and are not associated with alcoholism\n",
      "677 patients i.e, 0.61% didn't show up to appointment and are associated with alcoholism\n",
      "\n"
     ]
    }
   ],
   "source": [
    "# 0 denotes they didn't show up i.e, - Yes\n",
    "# 1 denotes they showed up i.e, - No\n",
    "\n",
    "# hypertension stats\n",
    "print_health_profile_stats(0, hypertension_data, 0, 'hypertension')\n",
    "print_health_profile_stats(1, hypertension_data, 0, 'hypertension')\n",
    "print_health_profile_stats(0, hypertension_data, 1, 'hypertension')\n",
    "print_health_profile_stats(1, hypertension_data, 1, 'hypertension')\n",
    "\n",
    "# diabetes stats\n",
    "print_health_profile_stats(0, diabetes_data, 0, 'diabetes')\n",
    "print_health_profile_stats(1, diabetes_data, 0, 'diabetes')\n",
    "print_health_profile_stats(0, diabetes_data, 1, 'diabetes')\n",
    "print_health_profile_stats(1, diabetes_data, 1, 'diabetes')\n",
    "\n",
    "# alcoholism stats\n",
    "print_health_profile_stats(0, alcoholism_data, 0, 'alcoholism')\n",
    "print_health_profile_stats(1, alcoholism_data, 0, 'alcoholism')\n",
    "print_health_profile_stats(0, alcoholism_data, 1, 'alcoholism')\n",
    "print_health_profile_stats(1, alcoholism_data, 1, 'alcoholism')"
   ]
  },
  {
   "cell_type": "code",
   "execution_count": 1022,
   "metadata": {},
   "outputs": [],
   "source": [
    "# stats of patients who has hypertension = 1 and alcoholism = 1\n",
    "data = df.query('hypertension == 1')\n",
    "data = data.query('alcoholism == 1')\n",
    "grouped_data = data.groupby('no_show').no_show.count()"
   ]
  },
  {
   "cell_type": "code",
   "execution_count": 1023,
   "metadata": {},
   "outputs": [],
   "source": [
    "def print_health_stats(no_show):\n",
    "    value = grouped_data[no_show]\n",
    "    percent = (value/len(data.index)) * 100\n",
    "    if no_show == \"Yes\":\n",
    "        print(\"{}% of patients with hypertension and alocoholim are no-shows\".format(percent.round(2)))\n",
    "    else:\n",
    "        print(\"{}% of patients with hypertension and alcoholism are shows\".format(percent.round(2)))"
   ]
  },
  {
   "cell_type": "code",
   "execution_count": 1024,
   "metadata": {},
   "outputs": [
    {
     "name": "stdout",
     "output_type": "stream",
     "text": [
      "18.39% of patients with hypertension and alocoholim are no-shows\n",
      "81.61% of patients with hypertension and alcoholism are shows\n"
     ]
    }
   ],
   "source": [
    "print_health_stats(\"Yes\")\n",
    "print_health_stats(\"No\")"
   ]
  },
  {
   "cell_type": "markdown",
   "metadata": {},
   "source": [
    "#### Conclusion:\n",
    "    \n",
    "The health profile of patients doesn’t seem to have much influence on showing up to appointment or not. Patients with hypertension have 16.9% no-show rate and 20% show rate which is not a significant difference. Similarly with alcoholism and diabetes, their proportions doesn’t seem to vary significantly. \n",
    "\n",
    "But when the combined stats are analysed, it seems like patients with hypertension are more likely to not show up than diabetic patients and diabetic patients are more likely to not show up than alcoholic patients.\n"
   ]
  },
  {
   "cell_type": "markdown",
   "metadata": {},
   "source": [
    "### Question 4: Which neighbourhoods have the highest number of no-shows?"
   ]
  },
  {
   "cell_type": "code",
   "execution_count": 945,
   "metadata": {},
   "outputs": [],
   "source": [
    "no_shows = df.query('no_show == \"Yes\"').groupby('neighbourhood').no_show.count()\n",
    "no_shows.sort_values(ascending=False, inplace=True)"
   ]
  },
  {
   "cell_type": "code",
   "execution_count": 946,
   "metadata": {},
   "outputs": [
    {
     "data": {
      "text/plain": [
       "Text(0,0.5,'Number of appointments')"
      ]
     },
     "execution_count": 946,
     "metadata": {},
     "output_type": "execute_result"
    },
    {
     "data": {
      "image/png": "[encoded data removed]",
      "text/plain": [
       "<Figure size 1008x432 with 1 Axes>"
      ]
     },
     "metadata": {},
     "output_type": "display_data"
    }
   ],
   "source": [
    "# plotting the data of top 20 neighbourhoods so that count of them can be seen clearly\n",
    "values = no_shows[:20]\n",
    "labels = no_shows.index[:20]\n",
    "values.plot(kind=\"bar\", x=labels, figsize=(14,6), color=\"#2077B4\")\n",
    "plt.title(\"No show stats by top 20 neighbourhoods\")\n",
    "plt.xlabel(\"Neighbourhood\")\n",
    "plt.ylabel(\"Number of appointments\")"
   ]
  },
  {
   "cell_type": "code",
   "execution_count": 947,
   "metadata": {},
   "outputs": [
    {
     "data": {
      "text/plain": [
       "Text(0,0.5,'Number of appointments')"
      ]
     },
     "execution_count": 947,
     "metadata": {},
     "output_type": "execute_result"
    },
    {
     "data": {
      "image/png": "[encoded data removed]",
      "text/plain": [
       "<Figure size 1296x432 with 1 Axes>"
      ]
     },
     "metadata": {},
     "output_type": "display_data"
    }
   ],
   "source": [
    "labels = no_shows.index\n",
    "no_shows.plot(kind=\"bar\", x=labels, figsize=(18,6), color=\"#2077B4\")\n",
    "plt.title(\"No show stats by neighbourhood\")\n",
    "plt.xlabel(\"Neighbourhood\")\n",
    "plt.ylabel(\"Number of appointments\")"
   ]
  },
  {
   "cell_type": "markdown",
   "metadata": {},
   "source": [
    "#### Conclusion:\n",
    "Conclusion: The graph clearly depicts that few neighbourhoods are more likely to escape from their appointments than others. Obviously, this counts as a major factor that influence no-shows"
   ]
  },
  {
   "cell_type": "markdown",
   "metadata": {},
   "source": [
    "### Question 5: Do no-shows have a larger time gap between scheduled date and appointment date?"
   ]
  },
  {
   "cell_type": "code",
   "execution_count": 948,
   "metadata": {},
   "outputs": [],
   "source": [
    "# calculate the amount of diffrence between appointment and scheduled day and drop the incorrect data\n",
    "df['days_between'] = df['appointment_day'] - df['scheduled_day']\n",
    "df['days_between'] = df['days_between'].dt.days\n",
    "days_between_df = df.drop(df.index[df['days_between'] < 0])\n",
    "days_between_df = days_between_df[['no_show', 'days_between']].groupby('days_between').count()"
   ]
  },
  {
   "cell_type": "code",
   "execution_count": 949,
   "metadata": {},
   "outputs": [
    {
     "data": {
      "text/plain": [
       "Text(0,0.5,'Number of appointments')"
      ]
     },
     "execution_count": 949,
     "metadata": {},
     "output_type": "execute_result"
    },
    {
     "data": {
      "image/png": "[encoded data removed]",
      "text/plain": [
       "<Figure size 1080x360 with 1 Axes>"
      ]
     },
     "metadata": {},
     "output_type": "display_data"
    }
   ],
   "source": [
    "days_between_df.plot(kind='line', figsize=(15,5))\n",
    "plt.title(\"Time gap between scheluded and appointment day's influcence on no-shows\")\n",
    "plt.xlabel('Days between scheduling and appointment')\n",
    "plt.ylabel('Number of appointments')"
   ]
  },
  {
   "cell_type": "markdown",
   "metadata": {},
   "source": [
    "#### Conclusion:\n",
    "Patients are a lot more likely to show up when the appointment is scheduled on the same day."
   ]
  },
  {
   "cell_type": "markdown",
   "metadata": {},
   "source": [
    "### Question 6: Are people receiving SMS are more likely to show up?"
   ]
  },
  {
   "cell_type": "code",
   "execution_count": 975,
   "metadata": {},
   "outputs": [
    {
     "data": {
      "text/plain": [
       "sms_received  no_show\n",
       "0             No         62506\n",
       "              Yes        12532\n",
       "1             No         25697\n",
       "              Yes         9784\n",
       "Name: no_show, dtype: int64"
      ]
     },
     "execution_count": 975,
     "metadata": {},
     "output_type": "execute_result"
    }
   ],
   "source": [
    "# group by sms_received and count the shows and no shows\n",
    "sms_trends_data = df.groupby('sms_received').no_show.value_counts()\n",
    "sms_trends_data"
   ]
  },
  {
   "cell_type": "code",
   "execution_count": 976,
   "metadata": {},
   "outputs": [
    {
     "name": "stdout",
     "output_type": "stream",
     "text": [
      "11.34% of patients didn't receive SMS and didn't show up to the appointment\n",
      "8.85% of patients received SMS and didn't show up to the appointment.\n"
     ]
    }
   ],
   "source": [
    "# print sms received anaylsis data\n",
    "def print_no_shows_data():\n",
    "    total = len(df.index)\n",
    "    received_percent = (sms_trends_data[0]['Yes']/total) * 100\n",
    "    not_received_percent = (sms_trends_data[1]['Yes']/total) * 100\n",
    "    print(\"{}% of patients didn't receive SMS and didn't show up to the appointment\".format(received_percent.round(2)))\n",
    "    print(\"{}% of patients received SMS and didn't show up to the appointment.\".format(not_received_percent.round(2)))\n",
    "print_no_shows_data()"
   ]
  },
  {
   "cell_type": "code",
   "execution_count": 977,
   "metadata": {},
   "outputs": [
    {
     "name": "stdout",
     "output_type": "stream",
     "text": [
      "56.56% of patients didn't receive SMS and showed up to the appointment\n",
      "23.25% of patients received SMS and showed up to the appointment\n"
     ]
    }
   ],
   "source": [
    "# print sms received anaylsis data\n",
    "def print_show_data():\n",
    "    total = len(df.index)\n",
    "    received_percent = (sms_trends_data[0]['No']/total) * 100\n",
    "    not_received_percent = (sms_trends_data[1]['No']/total) * 100\n",
    "    print(\"{}% of patients didn't receive SMS and showed up to the appointment\".format(received_percent.round(2)))\n",
    "    print(\"{}% of patients received SMS and showed up to the appointment\".format(not_received_percent.round(2)))\n",
    "print_show_data()"
   ]
  },
  {
   "cell_type": "code",
   "execution_count": 980,
   "metadata": {},
   "outputs": [
    {
     "data": {
      "text/plain": [
       "Text(0,0.5,'Number of appointments')"
      ]
     },
     "execution_count": 980,
     "metadata": {},
     "output_type": "execute_result"
    },
    {
     "data": {
      "image/png": "[encoded data removed]",
      "text/plain": [
       "<Figure size 432x288 with 1 Axes>"
      ]
     },
     "metadata": {},
     "output_type": "display_data"
    }
   ],
   "source": [
    "# plot the graph\n",
    "sms_trends_data.plot(kind='bar')\n",
    "plt.title('Influence of sms on no-shows and shows')\n",
    "plt.xlabel('(SMS received, No-show to appointment)')\n",
    "plt.ylabel('Number of appointments')"
   ]
  },
  {
   "cell_type": "markdown",
   "metadata": {},
   "source": [
    "#### Conclusion:\n",
    "Sending SMS hardly\n",
    "Conclusion:  Apparently, SMS is not a major factor that is influencing the percentage of no-shows because patients without receiving SMS showed up to the appointment in a great proportion. Sending SMS doesn’t really help patients to show up. Therefore, SMS hardly has an effect on no-shows."
   ]
  },
  {
   "cell_type": "markdown",
   "metadata": {},
   "source": [
    "<a id=\"summary\"></a>\n",
    "## Summary"
   ]
  },
  {
   "cell_type": "markdown",
   "metadata": {},
   "source": [
    "The main question was - What are the most important factors in determining the likelihood of a no-show? The most important factors were:\n",
    "\n",
    "1. The time between the scheduled and appointment date. Patients are a lot more likely to show up when the appointment is scheduled on the same day.\n",
    "2. The Neighbourhood - Few neighbourhoods have a high proportion of no-shows\n"
   ]
  },
  {
   "cell_type": "code",
   "execution_count": null,
   "metadata": {},
   "outputs": [],
   "source": []
  }
 ],
 "metadata": {
  "kernelspec": {
   "display_name": "Python [default]",
   "language": "python",
   "name": "python3"
  },
  "language_info": {
   "codemirror_mode": {
    "name": "ipython",
    "version": 3
   },
   "file_extension": ".py",
   "mimetype": "text/x-python",
   "name": "python",
   "nbconvert_exporter": "python",
   "pygments_lexer": "ipython3",
   "version": "3.6.5"
  }
 },
 "nbformat": 4,
 "nbformat_minor": 2
}
